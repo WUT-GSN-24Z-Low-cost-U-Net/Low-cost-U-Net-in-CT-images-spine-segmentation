{
  "nbformat": 4,
  "nbformat_minor": 0,
  "metadata": {
    "colab": {
      "provenance": [],
      "gpuType": "T4"
    },
    "kernelspec": {
      "name": "python3",
      "display_name": "Python 3"
    },
    "language_info": {
      "name": "python"
    },
    "accelerator": "GPU"
  },
  "cells": [
    {
      "cell_type": "code",
      "source": [
        "!git clone https://github.com/WUT-GSN-24Z-Low-cost-U-Net/Low_cost_U_Net_in_CT_images_spine_segmentation.git"
      ],
      "metadata": {
        "colab": {
          "base_uri": "https://localhost:8080/"
        },
        "id": "6rYfI95_U4aU",
        "outputId": "65f52a90-52b1-449a-a1d8-52eeac4c3f8a"
      },
      "execution_count": 30,
      "outputs": [
        {
          "output_type": "stream",
          "name": "stdout",
          "text": [
            "Cloning into 'Low_cost_U_Net_in_CT_images_spine_segmentation'...\n",
            "remote: Enumerating objects: 70, done.\u001b[K\n",
            "remote: Counting objects: 100% (10/10), done.\u001b[K\n",
            "remote: Compressing objects: 100% (8/8), done.\u001b[K\n",
            "remote: Total 70 (delta 0), reused 4 (delta 0), pack-reused 60 (from 2)\u001b[K\n",
            "Receiving objects: 100% (70/70), 132.83 MiB | 18.01 MiB/s, done.\n",
            "Resolving deltas: 100% (11/11), done.\n",
            "Updating files: 100% (36/36), done.\n"
          ]
        }
      ]
    },
    {
      "cell_type": "code",
      "source": [
        "!pip install -r /content/Low_cost_U_Net_in_CT_images_spine_segmentation/requirementsCUDA.txt"
      ],
      "metadata": {
        "colab": {
          "base_uri": "https://localhost:8080/"
        },
        "id": "v7Z0S7n0F7a2",
        "outputId": "0deed11f-812c-404a-8891-2ca08b6ae36b"
      },
      "execution_count": 1,
      "outputs": [
        {
          "output_type": "stream",
          "name": "stdout",
          "text": [
            "Requirement already satisfied: torch==2.5.1 in /usr/local/lib/python3.11/dist-packages (from -r /content/Low-cost-U-Net-in-CT-images-spine-segmentation/requirementsCUDA.txt (line 1)) (2.5.1+cu121)\n",
            "Requirement already satisfied: torchvision==0.20.1 in /usr/local/lib/python3.11/dist-packages (from -r /content/Low-cost-U-Net-in-CT-images-spine-segmentation/requirementsCUDA.txt (line 2)) (0.20.1+cu121)\n",
            "Requirement already satisfied: torchaudio==2.5.1 in /usr/local/lib/python3.11/dist-packages (from -r /content/Low-cost-U-Net-in-CT-images-spine-segmentation/requirementsCUDA.txt (line 3)) (2.5.1+cu121)\n",
            "Requirement already satisfied: pytorch-lightning==2.1.0 in /usr/local/lib/python3.11/dist-packages (from -r /content/Low-cost-U-Net-in-CT-images-spine-segmentation/requirementsCUDA.txt (line 4)) (2.1.0)\n",
            "Requirement already satisfied: hydra-core==1.3.2 in /usr/local/lib/python3.11/dist-packages (from -r /content/Low-cost-U-Net-in-CT-images-spine-segmentation/requirementsCUDA.txt (line 5)) (1.3.2)\n",
            "Requirement already satisfied: torcheval==0.0.7 in /usr/local/lib/python3.11/dist-packages (from -r /content/Low-cost-U-Net-in-CT-images-spine-segmentation/requirementsCUDA.txt (line 6)) (0.0.7)\n",
            "Requirement already satisfied: Pillow==11.1.0 in /usr/local/lib/python3.11/dist-packages (from -r /content/Low-cost-U-Net-in-CT-images-spine-segmentation/requirementsCUDA.txt (line 7)) (11.1.0)\n",
            "Requirement already satisfied: gdown==5.2.0 in /usr/local/lib/python3.11/dist-packages (from -r /content/Low-cost-U-Net-in-CT-images-spine-segmentation/requirementsCUDA.txt (line 8)) (5.2.0)\n",
            "Requirement already satisfied: tensorboard==2.17.1 in /usr/local/lib/python3.11/dist-packages (from -r /content/Low-cost-U-Net-in-CT-images-spine-segmentation/requirementsCUDA.txt (line 9)) (2.17.1)\n",
            "Requirement already satisfied: nibabel==5.3.2 in /usr/local/lib/python3.11/dist-packages (from -r /content/Low-cost-U-Net-in-CT-images-spine-segmentation/requirementsCUDA.txt (line 10)) (5.3.2)\n",
            "Requirement already satisfied: matplotlib==3.10.0 in /usr/local/lib/python3.11/dist-packages (from -r /content/Low-cost-U-Net-in-CT-images-spine-segmentation/requirementsCUDA.txt (line 11)) (3.10.0)\n",
            "Requirement already satisfied: numpy==1.26.4 in /usr/local/lib/python3.11/dist-packages (from -r /content/Low-cost-U-Net-in-CT-images-spine-segmentation/requirementsCUDA.txt (line 12)) (1.26.4)\n",
            "Requirement already satisfied: wandb==0.19.2 in /usr/local/lib/python3.11/dist-packages (from -r /content/Low-cost-U-Net-in-CT-images-spine-segmentation/requirementsCUDA.txt (line 13)) (0.19.2)\n",
            "Requirement already satisfied: filelock in /usr/local/lib/python3.11/dist-packages (from torch==2.5.1->-r /content/Low-cost-U-Net-in-CT-images-spine-segmentation/requirementsCUDA.txt (line 1)) (3.16.1)\n",
            "Requirement already satisfied: typing-extensions>=4.8.0 in /usr/local/lib/python3.11/dist-packages (from torch==2.5.1->-r /content/Low-cost-U-Net-in-CT-images-spine-segmentation/requirementsCUDA.txt (line 1)) (4.12.2)\n",
            "Requirement already satisfied: networkx in /usr/local/lib/python3.11/dist-packages (from torch==2.5.1->-r /content/Low-cost-U-Net-in-CT-images-spine-segmentation/requirementsCUDA.txt (line 1)) (3.4.2)\n",
            "Requirement already satisfied: jinja2 in /usr/local/lib/python3.11/dist-packages (from torch==2.5.1->-r /content/Low-cost-U-Net-in-CT-images-spine-segmentation/requirementsCUDA.txt (line 1)) (3.1.5)\n",
            "Requirement already satisfied: fsspec in /usr/local/lib/python3.11/dist-packages (from torch==2.5.1->-r /content/Low-cost-U-Net-in-CT-images-spine-segmentation/requirementsCUDA.txt (line 1)) (2024.10.0)\n",
            "Requirement already satisfied: nvidia-cuda-nvrtc-cu12==12.1.105 in /usr/local/lib/python3.11/dist-packages (from torch==2.5.1->-r /content/Low-cost-U-Net-in-CT-images-spine-segmentation/requirementsCUDA.txt (line 1)) (12.1.105)\n",
            "Requirement already satisfied: nvidia-cuda-runtime-cu12==12.1.105 in /usr/local/lib/python3.11/dist-packages (from torch==2.5.1->-r /content/Low-cost-U-Net-in-CT-images-spine-segmentation/requirementsCUDA.txt (line 1)) (12.1.105)\n",
            "Requirement already satisfied: nvidia-cuda-cupti-cu12==12.1.105 in /usr/local/lib/python3.11/dist-packages (from torch==2.5.1->-r /content/Low-cost-U-Net-in-CT-images-spine-segmentation/requirementsCUDA.txt (line 1)) (12.1.105)\n",
            "Requirement already satisfied: nvidia-cudnn-cu12==9.1.0.70 in /usr/local/lib/python3.11/dist-packages (from torch==2.5.1->-r /content/Low-cost-U-Net-in-CT-images-spine-segmentation/requirementsCUDA.txt (line 1)) (9.1.0.70)\n",
            "Requirement already satisfied: nvidia-cublas-cu12==12.1.3.1 in /usr/local/lib/python3.11/dist-packages (from torch==2.5.1->-r /content/Low-cost-U-Net-in-CT-images-spine-segmentation/requirementsCUDA.txt (line 1)) (12.1.3.1)\n",
            "Requirement already satisfied: nvidia-cufft-cu12==11.0.2.54 in /usr/local/lib/python3.11/dist-packages (from torch==2.5.1->-r /content/Low-cost-U-Net-in-CT-images-spine-segmentation/requirementsCUDA.txt (line 1)) (11.0.2.54)\n",
            "Requirement already satisfied: nvidia-curand-cu12==10.3.2.106 in /usr/local/lib/python3.11/dist-packages (from torch==2.5.1->-r /content/Low-cost-U-Net-in-CT-images-spine-segmentation/requirementsCUDA.txt (line 1)) (10.3.2.106)\n",
            "Requirement already satisfied: nvidia-cusolver-cu12==11.4.5.107 in /usr/local/lib/python3.11/dist-packages (from torch==2.5.1->-r /content/Low-cost-U-Net-in-CT-images-spine-segmentation/requirementsCUDA.txt (line 1)) (11.4.5.107)\n",
            "Requirement already satisfied: nvidia-cusparse-cu12==12.1.0.106 in /usr/local/lib/python3.11/dist-packages (from torch==2.5.1->-r /content/Low-cost-U-Net-in-CT-images-spine-segmentation/requirementsCUDA.txt (line 1)) (12.1.0.106)\n",
            "Requirement already satisfied: nvidia-nccl-cu12==2.21.5 in /usr/local/lib/python3.11/dist-packages (from torch==2.5.1->-r /content/Low-cost-U-Net-in-CT-images-spine-segmentation/requirementsCUDA.txt (line 1)) (2.21.5)\n",
            "Requirement already satisfied: nvidia-nvtx-cu12==12.1.105 in /usr/local/lib/python3.11/dist-packages (from torch==2.5.1->-r /content/Low-cost-U-Net-in-CT-images-spine-segmentation/requirementsCUDA.txt (line 1)) (12.1.105)\n",
            "Requirement already satisfied: triton==3.1.0 in /usr/local/lib/python3.11/dist-packages (from torch==2.5.1->-r /content/Low-cost-U-Net-in-CT-images-spine-segmentation/requirementsCUDA.txt (line 1)) (3.1.0)\n",
            "Requirement already satisfied: sympy==1.13.1 in /usr/local/lib/python3.11/dist-packages (from torch==2.5.1->-r /content/Low-cost-U-Net-in-CT-images-spine-segmentation/requirementsCUDA.txt (line 1)) (1.13.1)\n",
            "Requirement already satisfied: tqdm>=4.57.0 in /usr/local/lib/python3.11/dist-packages (from pytorch-lightning==2.1.0->-r /content/Low-cost-U-Net-in-CT-images-spine-segmentation/requirementsCUDA.txt (line 4)) (4.67.1)\n",
            "Requirement already satisfied: PyYAML>=5.4 in /usr/local/lib/python3.11/dist-packages (from pytorch-lightning==2.1.0->-r /content/Low-cost-U-Net-in-CT-images-spine-segmentation/requirementsCUDA.txt (line 4)) (6.0.2)\n",
            "Requirement already satisfied: torchmetrics>=0.7.0 in /usr/local/lib/python3.11/dist-packages (from pytorch-lightning==2.1.0->-r /content/Low-cost-U-Net-in-CT-images-spine-segmentation/requirementsCUDA.txt (line 4)) (1.6.1)\n",
            "Requirement already satisfied: packaging>=20.0 in /usr/local/lib/python3.11/dist-packages (from pytorch-lightning==2.1.0->-r /content/Low-cost-U-Net-in-CT-images-spine-segmentation/requirementsCUDA.txt (line 4)) (24.2)\n",
            "Requirement already satisfied: lightning-utilities>=0.8.0 in /usr/local/lib/python3.11/dist-packages (from pytorch-lightning==2.1.0->-r /content/Low-cost-U-Net-in-CT-images-spine-segmentation/requirementsCUDA.txt (line 4)) (0.11.9)\n",
            "Requirement already satisfied: omegaconf<2.4,>=2.2 in /usr/local/lib/python3.11/dist-packages (from hydra-core==1.3.2->-r /content/Low-cost-U-Net-in-CT-images-spine-segmentation/requirementsCUDA.txt (line 5)) (2.3.0)\n",
            "Requirement already satisfied: antlr4-python3-runtime==4.9.* in /usr/local/lib/python3.11/dist-packages (from hydra-core==1.3.2->-r /content/Low-cost-U-Net-in-CT-images-spine-segmentation/requirementsCUDA.txt (line 5)) (4.9.3)\n",
            "Requirement already satisfied: beautifulsoup4 in /usr/local/lib/python3.11/dist-packages (from gdown==5.2.0->-r /content/Low-cost-U-Net-in-CT-images-spine-segmentation/requirementsCUDA.txt (line 8)) (4.12.3)\n",
            "Requirement already satisfied: requests[socks] in /usr/local/lib/python3.11/dist-packages (from gdown==5.2.0->-r /content/Low-cost-U-Net-in-CT-images-spine-segmentation/requirementsCUDA.txt (line 8)) (2.32.3)\n",
            "Requirement already satisfied: absl-py>=0.4 in /usr/local/lib/python3.11/dist-packages (from tensorboard==2.17.1->-r /content/Low-cost-U-Net-in-CT-images-spine-segmentation/requirementsCUDA.txt (line 9)) (1.4.0)\n",
            "Requirement already satisfied: grpcio>=1.48.2 in /usr/local/lib/python3.11/dist-packages (from tensorboard==2.17.1->-r /content/Low-cost-U-Net-in-CT-images-spine-segmentation/requirementsCUDA.txt (line 9)) (1.69.0)\n",
            "Requirement already satisfied: markdown>=2.6.8 in /usr/local/lib/python3.11/dist-packages (from tensorboard==2.17.1->-r /content/Low-cost-U-Net-in-CT-images-spine-segmentation/requirementsCUDA.txt (line 9)) (3.7)\n",
            "Requirement already satisfied: protobuf!=4.24.0,>=3.19.6 in /usr/local/lib/python3.11/dist-packages (from tensorboard==2.17.1->-r /content/Low-cost-U-Net-in-CT-images-spine-segmentation/requirementsCUDA.txt (line 9)) (4.25.5)\n",
            "Requirement already satisfied: setuptools>=41.0.0 in /usr/local/lib/python3.11/dist-packages (from tensorboard==2.17.1->-r /content/Low-cost-U-Net-in-CT-images-spine-segmentation/requirementsCUDA.txt (line 9)) (75.1.0)\n",
            "Requirement already satisfied: six>1.9 in /usr/local/lib/python3.11/dist-packages (from tensorboard==2.17.1->-r /content/Low-cost-U-Net-in-CT-images-spine-segmentation/requirementsCUDA.txt (line 9)) (1.17.0)\n",
            "Requirement already satisfied: tensorboard-data-server<0.8.0,>=0.7.0 in /usr/local/lib/python3.11/dist-packages (from tensorboard==2.17.1->-r /content/Low-cost-U-Net-in-CT-images-spine-segmentation/requirementsCUDA.txt (line 9)) (0.7.2)\n",
            "Requirement already satisfied: werkzeug>=1.0.1 in /usr/local/lib/python3.11/dist-packages (from tensorboard==2.17.1->-r /content/Low-cost-U-Net-in-CT-images-spine-segmentation/requirementsCUDA.txt (line 9)) (3.1.3)\n",
            "Requirement already satisfied: importlib-resources>=5.12 in /usr/local/lib/python3.11/dist-packages (from nibabel==5.3.2->-r /content/Low-cost-U-Net-in-CT-images-spine-segmentation/requirementsCUDA.txt (line 10)) (6.5.2)\n",
            "Requirement already satisfied: contourpy>=1.0.1 in /usr/local/lib/python3.11/dist-packages (from matplotlib==3.10.0->-r /content/Low-cost-U-Net-in-CT-images-spine-segmentation/requirementsCUDA.txt (line 11)) (1.3.1)\n",
            "Requirement already satisfied: cycler>=0.10 in /usr/local/lib/python3.11/dist-packages (from matplotlib==3.10.0->-r /content/Low-cost-U-Net-in-CT-images-spine-segmentation/requirementsCUDA.txt (line 11)) (0.12.1)\n",
            "Requirement already satisfied: fonttools>=4.22.0 in /usr/local/lib/python3.11/dist-packages (from matplotlib==3.10.0->-r /content/Low-cost-U-Net-in-CT-images-spine-segmentation/requirementsCUDA.txt (line 11)) (4.55.3)\n",
            "Requirement already satisfied: kiwisolver>=1.3.1 in /usr/local/lib/python3.11/dist-packages (from matplotlib==3.10.0->-r /content/Low-cost-U-Net-in-CT-images-spine-segmentation/requirementsCUDA.txt (line 11)) (1.4.8)\n",
            "Requirement already satisfied: pyparsing>=2.3.1 in /usr/local/lib/python3.11/dist-packages (from matplotlib==3.10.0->-r /content/Low-cost-U-Net-in-CT-images-spine-segmentation/requirementsCUDA.txt (line 11)) (3.2.1)\n",
            "Requirement already satisfied: python-dateutil>=2.7 in /usr/local/lib/python3.11/dist-packages (from matplotlib==3.10.0->-r /content/Low-cost-U-Net-in-CT-images-spine-segmentation/requirementsCUDA.txt (line 11)) (2.8.2)\n",
            "Requirement already satisfied: click!=8.0.0,>=7.1 in /usr/local/lib/python3.11/dist-packages (from wandb==0.19.2->-r /content/Low-cost-U-Net-in-CT-images-spine-segmentation/requirementsCUDA.txt (line 13)) (8.1.8)\n",
            "Requirement already satisfied: docker-pycreds>=0.4.0 in /usr/local/lib/python3.11/dist-packages (from wandb==0.19.2->-r /content/Low-cost-U-Net-in-CT-images-spine-segmentation/requirementsCUDA.txt (line 13)) (0.4.0)\n",
            "Requirement already satisfied: gitpython!=3.1.29,>=1.0.0 in /usr/local/lib/python3.11/dist-packages (from wandb==0.19.2->-r /content/Low-cost-U-Net-in-CT-images-spine-segmentation/requirementsCUDA.txt (line 13)) (3.1.44)\n",
            "Requirement already satisfied: platformdirs in /usr/local/lib/python3.11/dist-packages (from wandb==0.19.2->-r /content/Low-cost-U-Net-in-CT-images-spine-segmentation/requirementsCUDA.txt (line 13)) (4.3.6)\n",
            "Requirement already satisfied: psutil>=5.0.0 in /usr/local/lib/python3.11/dist-packages (from wandb==0.19.2->-r /content/Low-cost-U-Net-in-CT-images-spine-segmentation/requirementsCUDA.txt (line 13)) (5.9.5)\n",
            "Requirement already satisfied: pydantic<3,>=2.6 in /usr/local/lib/python3.11/dist-packages (from wandb==0.19.2->-r /content/Low-cost-U-Net-in-CT-images-spine-segmentation/requirementsCUDA.txt (line 13)) (2.10.5)\n",
            "Requirement already satisfied: sentry-sdk>=2.0.0 in /usr/local/lib/python3.11/dist-packages (from wandb==0.19.2->-r /content/Low-cost-U-Net-in-CT-images-spine-segmentation/requirementsCUDA.txt (line 13)) (2.19.2)\n",
            "Requirement already satisfied: setproctitle in /usr/local/lib/python3.11/dist-packages (from wandb==0.19.2->-r /content/Low-cost-U-Net-in-CT-images-spine-segmentation/requirementsCUDA.txt (line 13)) (1.3.4)\n",
            "Requirement already satisfied: nvidia-nvjitlink-cu12 in /usr/local/lib/python3.11/dist-packages (from nvidia-cusolver-cu12==11.4.5.107->torch==2.5.1->-r /content/Low-cost-U-Net-in-CT-images-spine-segmentation/requirementsCUDA.txt (line 1)) (12.6.85)\n",
            "Requirement already satisfied: mpmath<1.4,>=1.1.0 in /usr/local/lib/python3.11/dist-packages (from sympy==1.13.1->torch==2.5.1->-r /content/Low-cost-U-Net-in-CT-images-spine-segmentation/requirementsCUDA.txt (line 1)) (1.3.0)\n",
            "Requirement already satisfied: aiohttp!=4.0.0a0,!=4.0.0a1 in /usr/local/lib/python3.11/dist-packages (from fsspec[http]>2021.06.0->pytorch-lightning==2.1.0->-r /content/Low-cost-U-Net-in-CT-images-spine-segmentation/requirementsCUDA.txt (line 4)) (3.11.11)\n",
            "Requirement already satisfied: gitdb<5,>=4.0.1 in /usr/local/lib/python3.11/dist-packages (from gitpython!=3.1.29,>=1.0.0->wandb==0.19.2->-r /content/Low-cost-U-Net-in-CT-images-spine-segmentation/requirementsCUDA.txt (line 13)) (4.0.12)\n",
            "Requirement already satisfied: annotated-types>=0.6.0 in /usr/local/lib/python3.11/dist-packages (from pydantic<3,>=2.6->wandb==0.19.2->-r /content/Low-cost-U-Net-in-CT-images-spine-segmentation/requirementsCUDA.txt (line 13)) (0.7.0)\n",
            "Requirement already satisfied: pydantic-core==2.27.2 in /usr/local/lib/python3.11/dist-packages (from pydantic<3,>=2.6->wandb==0.19.2->-r /content/Low-cost-U-Net-in-CT-images-spine-segmentation/requirementsCUDA.txt (line 13)) (2.27.2)\n",
            "Requirement already satisfied: charset-normalizer<4,>=2 in /usr/local/lib/python3.11/dist-packages (from requests[socks]->gdown==5.2.0->-r /content/Low-cost-U-Net-in-CT-images-spine-segmentation/requirementsCUDA.txt (line 8)) (3.4.1)\n",
            "Requirement already satisfied: idna<4,>=2.5 in /usr/local/lib/python3.11/dist-packages (from requests[socks]->gdown==5.2.0->-r /content/Low-cost-U-Net-in-CT-images-spine-segmentation/requirementsCUDA.txt (line 8)) (3.10)\n",
            "Requirement already satisfied: urllib3<3,>=1.21.1 in /usr/local/lib/python3.11/dist-packages (from requests[socks]->gdown==5.2.0->-r /content/Low-cost-U-Net-in-CT-images-spine-segmentation/requirementsCUDA.txt (line 8)) (2.3.0)\n",
            "Requirement already satisfied: certifi>=2017.4.17 in /usr/local/lib/python3.11/dist-packages (from requests[socks]->gdown==5.2.0->-r /content/Low-cost-U-Net-in-CT-images-spine-segmentation/requirementsCUDA.txt (line 8)) (2024.12.14)\n",
            "Requirement already satisfied: MarkupSafe>=2.1.1 in /usr/local/lib/python3.11/dist-packages (from werkzeug>=1.0.1->tensorboard==2.17.1->-r /content/Low-cost-U-Net-in-CT-images-spine-segmentation/requirementsCUDA.txt (line 9)) (3.0.2)\n",
            "Requirement already satisfied: soupsieve>1.2 in /usr/local/lib/python3.11/dist-packages (from beautifulsoup4->gdown==5.2.0->-r /content/Low-cost-U-Net-in-CT-images-spine-segmentation/requirementsCUDA.txt (line 8)) (2.6)\n",
            "Requirement already satisfied: PySocks!=1.5.7,>=1.5.6 in /usr/local/lib/python3.11/dist-packages (from requests[socks]->gdown==5.2.0->-r /content/Low-cost-U-Net-in-CT-images-spine-segmentation/requirementsCUDA.txt (line 8)) (1.7.1)\n",
            "Requirement already satisfied: aiohappyeyeballs>=2.3.0 in /usr/local/lib/python3.11/dist-packages (from aiohttp!=4.0.0a0,!=4.0.0a1->fsspec[http]>2021.06.0->pytorch-lightning==2.1.0->-r /content/Low-cost-U-Net-in-CT-images-spine-segmentation/requirementsCUDA.txt (line 4)) (2.4.4)\n",
            "Requirement already satisfied: aiosignal>=1.1.2 in /usr/local/lib/python3.11/dist-packages (from aiohttp!=4.0.0a0,!=4.0.0a1->fsspec[http]>2021.06.0->pytorch-lightning==2.1.0->-r /content/Low-cost-U-Net-in-CT-images-spine-segmentation/requirementsCUDA.txt (line 4)) (1.3.2)\n",
            "Requirement already satisfied: attrs>=17.3.0 in /usr/local/lib/python3.11/dist-packages (from aiohttp!=4.0.0a0,!=4.0.0a1->fsspec[http]>2021.06.0->pytorch-lightning==2.1.0->-r /content/Low-cost-U-Net-in-CT-images-spine-segmentation/requirementsCUDA.txt (line 4)) (24.3.0)\n",
            "Requirement already satisfied: frozenlist>=1.1.1 in /usr/local/lib/python3.11/dist-packages (from aiohttp!=4.0.0a0,!=4.0.0a1->fsspec[http]>2021.06.0->pytorch-lightning==2.1.0->-r /content/Low-cost-U-Net-in-CT-images-spine-segmentation/requirementsCUDA.txt (line 4)) (1.5.0)\n",
            "Requirement already satisfied: multidict<7.0,>=4.5 in /usr/local/lib/python3.11/dist-packages (from aiohttp!=4.0.0a0,!=4.0.0a1->fsspec[http]>2021.06.0->pytorch-lightning==2.1.0->-r /content/Low-cost-U-Net-in-CT-images-spine-segmentation/requirementsCUDA.txt (line 4)) (6.1.0)\n",
            "Requirement already satisfied: propcache>=0.2.0 in /usr/local/lib/python3.11/dist-packages (from aiohttp!=4.0.0a0,!=4.0.0a1->fsspec[http]>2021.06.0->pytorch-lightning==2.1.0->-r /content/Low-cost-U-Net-in-CT-images-spine-segmentation/requirementsCUDA.txt (line 4)) (0.2.1)\n",
            "Requirement already satisfied: yarl<2.0,>=1.17.0 in /usr/local/lib/python3.11/dist-packages (from aiohttp!=4.0.0a0,!=4.0.0a1->fsspec[http]>2021.06.0->pytorch-lightning==2.1.0->-r /content/Low-cost-U-Net-in-CT-images-spine-segmentation/requirementsCUDA.txt (line 4)) (1.18.3)\n",
            "Requirement already satisfied: smmap<6,>=3.0.1 in /usr/local/lib/python3.11/dist-packages (from gitdb<5,>=4.0.1->gitpython!=3.1.29,>=1.0.0->wandb==0.19.2->-r /content/Low-cost-U-Net-in-CT-images-spine-segmentation/requirementsCUDA.txt (line 13)) (5.0.2)\n"
          ]
        }
      ]
    },
    {
      "cell_type": "code",
      "source": [
        "!gdown --id 1udpraFyj0DMWsxFuA5qlXEuKTncmVrfn\n",
        "!unzip -q data.zip\n",
        "!rm data.zip"
      ],
      "metadata": {
        "colab": {
          "base_uri": "https://localhost:8080/"
        },
        "id": "wneUJUNZbSzu",
        "outputId": "c201a3db-5135-4fbd-9d58-590a3776c499"
      },
      "execution_count": 2,
      "outputs": [
        {
          "output_type": "stream",
          "name": "stdout",
          "text": [
            "/usr/local/lib/python3.11/dist-packages/gdown/__main__.py:140: FutureWarning: Option `--id` was deprecated in version 4.3.1 and will be removed in 5.0. You don't need to pass it anymore to use a file ID.\n",
            "  warnings.warn(\n",
            "Downloading...\n",
            "From (original): https://drive.google.com/uc?id=1udpraFyj0DMWsxFuA5qlXEuKTncmVrfn\n",
            "From (redirected): https://drive.google.com/uc?id=1udpraFyj0DMWsxFuA5qlXEuKTncmVrfn&confirm=t&uuid=7b2d7281-98a1-4beb-a3f3-255ccb6b0674\n",
            "To: /content/data.zip\n",
            "100% 131M/131M [00:02<00:00, 45.7MB/s]\n"
          ]
        }
      ]
    },
    {
      "cell_type": "code",
      "source": [
        "!cd /content/Low_cost_U_Net_in_CT_images_spine_segmentation/ && python -m ct_segmentation.train"
      ],
      "metadata": {
        "colab": {
          "base_uri": "https://localhost:8080/"
        },
        "id": "92oq35VJFrje",
        "outputId": "d901439c-d398-4a7c-af94-a3432a8a4f24"
      },
      "execution_count": 5,
      "outputs": [
        {
          "output_type": "stream",
          "name": "stdout",
          "text": [
            "/content/Low-cost-U-Net-in-CT-images-spine-segmentation/ct_segmentation/train.py:10: UserWarning: \n",
            "The version_base parameter is not specified.\n",
            "Please specify a compatability version level, or None.\n",
            "Will assume defaults for version 1.1\n",
            "  @hydra.main(config_path=\"../config\", config_name=\"config\")\n",
            "/usr/local/lib/python3.11/dist-packages/hydra/_internal/hydra.py:119: UserWarning: Future Hydra versions will no longer change working directory at job runtime by default.\n",
            "See https://hydra.cc/docs/1.2/upgrades/1.1_to_1.2/changes_to_job_working_dir/ for more information.\n",
            "  ret = run_job(\n",
            "Training experiment: ct_segmentation_training\n",
            "\u001b[34m\u001b[1mwandb\u001b[0m: Currently logged in as: \u001b[33mlukasstan\u001b[0m (\u001b[33mlukasstan-warsaw-university-of-technology\u001b[0m). Use \u001b[1m`wandb login --relogin`\u001b[0m to force relogin\n",
            "/usr/local/lib/python3.11/dist-packages/lightning_fabric/connector.py:565: `precision=16` is supported for historical reasons but its usage is discouraged. Please set your precision to 16-mixed instead!\n",
            "Using 16bit Automatic Mixed Precision (AMP)\n",
            "/usr/local/lib/python3.11/dist-packages/pytorch_lightning/plugins/precision/amp.py:54: `torch.cuda.amp.GradScaler(args...)` is deprecated. Please use `torch.amp.GradScaler('cuda', args...)` instead.\n",
            "GPU available: True (cuda), used: True\n",
            "TPU available: False, using: 0 TPU cores\n",
            "IPU available: False, using: 0 IPUs\n",
            "HPU available: False, using: 0 HPUs\n",
            "\u001b[34m\u001b[1mwandb\u001b[0m: Using wandb-core as the SDK backend.  Please refer to https://wandb.me/wandb-core for more information.\n",
            "\u001b[34m\u001b[1mwandb\u001b[0m: Tracking run with wandb version 0.19.2\n",
            "\u001b[34m\u001b[1mwandb\u001b[0m: Run data is saved locally in \u001b[35m\u001b[1m./wandb/run-20250117_224837-uicgx4ap\u001b[0m\n",
            "\u001b[34m\u001b[1mwandb\u001b[0m: Run \u001b[1m`wandb offline`\u001b[0m to turn off syncing.\n",
            "\u001b[34m\u001b[1mwandb\u001b[0m: Syncing run \u001b[33mct_segmentation_training\u001b[0m\n",
            "\u001b[34m\u001b[1mwandb\u001b[0m: ⭐️ View project at \u001b[34m\u001b[4mhttps://wandb.ai/lukasstan-warsaw-university-of-technology/ct_model\u001b[0m\n",
            "\u001b[34m\u001b[1mwandb\u001b[0m: 🚀 View run at \u001b[34m\u001b[4mhttps://wandb.ai/lukasstan-warsaw-university-of-technology/ct_model/runs/uicgx4ap\u001b[0m\n",
            "2025-01-17 22:48:39.240596: E external/local_xla/xla/stream_executor/cuda/cuda_fft.cc:485] Unable to register cuFFT factory: Attempting to register factory for plugin cuFFT when one has already been registered\n",
            "2025-01-17 22:48:39.263052: E external/local_xla/xla/stream_executor/cuda/cuda_dnn.cc:8454] Unable to register cuDNN factory: Attempting to register factory for plugin cuDNN when one has already been registered\n",
            "2025-01-17 22:48:39.269818: E external/local_xla/xla/stream_executor/cuda/cuda_blas.cc:1452] Unable to register cuBLAS factory: Attempting to register factory for plugin cuBLAS when one has already been registered\n",
            "2025-01-17 22:48:39.285773: I tensorflow/core/platform/cpu_feature_guard.cc:210] This TensorFlow binary is optimized to use available CPU instructions in performance-critical operations.\n",
            "To enable the following instructions: AVX2 AVX512F FMA, in other operations, rebuild TensorFlow with the appropriate compiler flags.\n",
            "2025-01-17 22:48:40.901655: W tensorflow/compiler/tf2tensorrt/utils/py_utils.cc:38] TF-TRT Warning: Could not find TensorRT\n",
            "LOCAL_RANK: 0 - CUDA_VISIBLE_DEVICES: [0]\n",
            "\n",
            "  | Name  | Type              | Params\n",
            "--------------------------------------------\n",
            "0 | model | UNetWithAttention | 33.1 M\n",
            "--------------------------------------------\n",
            "33.1 M    Trainable params\n",
            "0         Non-trainable params\n",
            "33.1 M    Total params\n",
            "132.501   Total estimated model params size (MB)\n",
            "Sanity Checking: |          | 0/? [00:00<?, ?it/s]/usr/local/lib/python3.11/dist-packages/pytorch_lightning/trainer/connectors/data_connector.py:441: The 'val_dataloader' does not have many workers which may be a bottleneck. Consider increasing the value of the `num_workers` argument` to `num_workers=1` in the `DataLoader` to improve performance.\n",
            "Sanity Checking DataLoader 0:   0% 0/2 [00:00<?, ?it/s]Validation \u001b[1;36mLoss \u001b[0m\u001b[1;36m(\u001b[0m\u001b[1;36mbatch \u001b[0m\u001b[1;36m0\u001b[0m\u001b[1;36m)\u001b[0m\u001b[1;36m: \u001b[0m\u001b[1;36m0.7541\u001b[0m\n",
            "Validation \u001b[1;32mAccuracy \u001b[0m\u001b[1;32m(\u001b[0m\u001b[1;32mbatch \u001b[0m\u001b[1;32m0\u001b[0m\u001b[1;32m)\u001b[0m\u001b[1;32m: \u001b[0m\u001b[1;32m0.0000\u001b[0m\n",
            "Validation \u001b[1;36mLoss \u001b[0m\u001b[1;36m(\u001b[0m\u001b[1;36mbatch \u001b[0m\u001b[1;36m1\u001b[0m\u001b[1;36m)\u001b[0m\u001b[1;36m: \u001b[0m\u001b[1;36m0.7544\u001b[0m\n",
            "Validation \u001b[1;32mAccuracy \u001b[0m\u001b[1;32m(\u001b[0m\u001b[1;32mbatch \u001b[0m\u001b[1;32m1\u001b[0m\u001b[1;32m)\u001b[0m\u001b[1;32m: \u001b[0m\u001b[1;32m0.0000\u001b[0m\n",
            "/usr/local/lib/python3.11/dist-packages/pytorch_lightning/trainer/connectors/data_connector.py:441: The 'train_dataloader' does not have many workers which may be a bottleneck. Consider increasing the value of the `num_workers` argument` to `num_workers=1` in the `DataLoader` to improve performance.\n",
            "Epoch 1: 100% 48/48 [00:28<00:00,  1.68it/s, v_num=ap_0, train_loss_step=0.0618, train_acc_step=0.000, train_loss_epoch=0.423, train_acc_epoch=0.000]\n",
            "Validation: |          | 0/? [00:00<?, ?it/s]\u001b[A\n",
            "Validation:   0% 0/12 [00:00<?, ?it/s]       \u001b[A\n",
            "Validation DataLoader 0:   0% 0/12 [00:00<?, ?it/s]\u001b[AValidation \u001b[1;36mLoss \u001b[0m\u001b[1;36m(\u001b[0m\u001b[1;36mbatch \u001b[0m\u001b[1;36m0\u001b[0m\u001b[1;36m)\u001b[0m\u001b[1;36m: \u001b[0m\u001b[1;36m0.0409\u001b[0m\n",
            "Validation \u001b[1;32mAccuracy \u001b[0m\u001b[1;32m(\u001b[0m\u001b[1;32mbatch \u001b[0m\u001b[1;32m0\u001b[0m\u001b[1;32m)\u001b[0m\u001b[1;32m: \u001b[0m\u001b[1;32m0.0000\u001b[0m\n",
            "Validation \u001b[1;36mLoss \u001b[0m\u001b[1;36m(\u001b[0m\u001b[1;36mbatch \u001b[0m\u001b[1;36m1\u001b[0m\u001b[1;36m)\u001b[0m\u001b[1;36m: \u001b[0m\u001b[1;36m0.0447\u001b[0m\n",
            "Validation \u001b[1;32mAccuracy \u001b[0m\u001b[1;32m(\u001b[0m\u001b[1;32mbatch \u001b[0m\u001b[1;32m1\u001b[0m\u001b[1;32m)\u001b[0m\u001b[1;32m: \u001b[0m\u001b[1;32m0.0000\u001b[0m\n",
            "Validation \u001b[1;36mLoss \u001b[0m\u001b[1;36m(\u001b[0m\u001b[1;36mbatch \u001b[0m\u001b[1;36m2\u001b[0m\u001b[1;36m)\u001b[0m\u001b[1;36m: \u001b[0m\u001b[1;36m0.0474\u001b[0m\n",
            "Validation \u001b[1;32mAccuracy \u001b[0m\u001b[1;32m(\u001b[0m\u001b[1;32mbatch \u001b[0m\u001b[1;32m2\u001b[0m\u001b[1;32m)\u001b[0m\u001b[1;32m: \u001b[0m\u001b[1;32m0.0000\u001b[0m\n",
            "Validation \u001b[1;36mLoss \u001b[0m\u001b[1;36m(\u001b[0m\u001b[1;36mbatch \u001b[0m\u001b[1;36m3\u001b[0m\u001b[1;36m)\u001b[0m\u001b[1;36m: \u001b[0m\u001b[1;36m0.0427\u001b[0m\n",
            "Validation \u001b[1;32mAccuracy \u001b[0m\u001b[1;32m(\u001b[0m\u001b[1;32mbatch \u001b[0m\u001b[1;32m3\u001b[0m\u001b[1;32m)\u001b[0m\u001b[1;32m: \u001b[0m\u001b[1;32m0.0000\u001b[0m\n",
            "Validation \u001b[1;36mLoss \u001b[0m\u001b[1;36m(\u001b[0m\u001b[1;36mbatch \u001b[0m\u001b[1;36m4\u001b[0m\u001b[1;36m)\u001b[0m\u001b[1;36m: \u001b[0m\u001b[1;36m0.0433\u001b[0m\n",
            "Validation \u001b[1;32mAccuracy \u001b[0m\u001b[1;32m(\u001b[0m\u001b[1;32mbatch \u001b[0m\u001b[1;32m4\u001b[0m\u001b[1;32m)\u001b[0m\u001b[1;32m: \u001b[0m\u001b[1;32m0.0000\u001b[0m\n",
            "Validation \u001b[1;36mLoss \u001b[0m\u001b[1;36m(\u001b[0m\u001b[1;36mbatch \u001b[0m\u001b[1;36m5\u001b[0m\u001b[1;36m)\u001b[0m\u001b[1;36m: \u001b[0m\u001b[1;36m0.0477\u001b[0m\n",
            "Validation \u001b[1;32mAccuracy \u001b[0m\u001b[1;32m(\u001b[0m\u001b[1;32mbatch \u001b[0m\u001b[1;32m5\u001b[0m\u001b[1;32m)\u001b[0m\u001b[1;32m: \u001b[0m\u001b[1;32m0.0000\u001b[0m\n",
            "Validation \u001b[1;36mLoss \u001b[0m\u001b[1;36m(\u001b[0m\u001b[1;36mbatch \u001b[0m\u001b[1;36m6\u001b[0m\u001b[1;36m)\u001b[0m\u001b[1;36m: \u001b[0m\u001b[1;36m0.0453\u001b[0m\n",
            "Validation \u001b[1;32mAccuracy \u001b[0m\u001b[1;32m(\u001b[0m\u001b[1;32mbatch \u001b[0m\u001b[1;32m6\u001b[0m\u001b[1;32m)\u001b[0m\u001b[1;32m: \u001b[0m\u001b[1;32m0.0000\u001b[0m\n",
            "Validation \u001b[1;36mLoss \u001b[0m\u001b[1;36m(\u001b[0m\u001b[1;36mbatch \u001b[0m\u001b[1;36m7\u001b[0m\u001b[1;36m)\u001b[0m\u001b[1;36m: \u001b[0m\u001b[1;36m0.0377\u001b[0m\n",
            "Validation \u001b[1;32mAccuracy \u001b[0m\u001b[1;32m(\u001b[0m\u001b[1;32mbatch \u001b[0m\u001b[1;32m7\u001b[0m\u001b[1;32m)\u001b[0m\u001b[1;32m: \u001b[0m\u001b[1;32m0.0000\u001b[0m\n",
            "Validation \u001b[1;36mLoss \u001b[0m\u001b[1;36m(\u001b[0m\u001b[1;36mbatch \u001b[0m\u001b[1;36m8\u001b[0m\u001b[1;36m)\u001b[0m\u001b[1;36m: \u001b[0m\u001b[1;36m0.0405\u001b[0m\n",
            "Validation \u001b[1;32mAccuracy \u001b[0m\u001b[1;32m(\u001b[0m\u001b[1;32mbatch \u001b[0m\u001b[1;32m8\u001b[0m\u001b[1;32m)\u001b[0m\u001b[1;32m: \u001b[0m\u001b[1;32m0.0000\u001b[0m\n",
            "Validation \u001b[1;36mLoss \u001b[0m\u001b[1;36m(\u001b[0m\u001b[1;36mbatch \u001b[0m\u001b[1;36m9\u001b[0m\u001b[1;36m)\u001b[0m\u001b[1;36m: \u001b[0m\u001b[1;36m0.0457\u001b[0m\n",
            "Validation \u001b[1;32mAccuracy \u001b[0m\u001b[1;32m(\u001b[0m\u001b[1;32mbatch \u001b[0m\u001b[1;32m9\u001b[0m\u001b[1;32m)\u001b[0m\u001b[1;32m: \u001b[0m\u001b[1;32m0.0000\u001b[0m\n",
            "Validation \u001b[1;36mLoss \u001b[0m\u001b[1;36m(\u001b[0m\u001b[1;36mbatch \u001b[0m\u001b[1;36m10\u001b[0m\u001b[1;36m)\u001b[0m\u001b[1;36m: \u001b[0m\u001b[1;36m0.0426\u001b[0m\n",
            "Validation \u001b[1;32mAccuracy \u001b[0m\u001b[1;32m(\u001b[0m\u001b[1;32mbatch \u001b[0m\u001b[1;32m10\u001b[0m\u001b[1;32m)\u001b[0m\u001b[1;32m: \u001b[0m\u001b[1;32m0.0000\u001b[0m\n",
            "Validation \u001b[1;36mLoss \u001b[0m\u001b[1;36m(\u001b[0m\u001b[1;36mbatch \u001b[0m\u001b[1;36m11\u001b[0m\u001b[1;36m)\u001b[0m\u001b[1;36m: \u001b[0m\u001b[1;36m0.0401\u001b[0m\n",
            "Validation \u001b[1;32mAccuracy \u001b[0m\u001b[1;32m(\u001b[0m\u001b[1;32mbatch \u001b[0m\u001b[1;32m11\u001b[0m\u001b[1;32m)\u001b[0m\u001b[1;32m: \u001b[0m\u001b[1;32m0.0000\u001b[0m\n",
            "\n",
            "Validation DataLoader 0: 100% 12/12 [00:04<00:00,  2.96it/s]\u001b[A\n",
            "Epoch 2:   0% 0/48 [00:00<?, ?it/s, v_num=ap_0, train_loss_step=0.0618, train_acc_step=0.000, train_loss_epoch=0.0537, train_acc_epoch=0.000, val_loss=0.0432, val_acc=0.000]/usr/local/lib/python3.11/dist-packages/pytorch_lightning/trainer/call.py:54: Detected KeyboardInterrupt, attempting graceful shutdown...\n",
            "\u001b[34m\u001b[1mwandb\u001b[0m:                                                                                \n",
            "\u001b[34m\u001b[1mwandb\u001b[0m: \n",
            "\u001b[34m\u001b[1mwandb\u001b[0m: Run history:\n",
            "\u001b[34m\u001b[1mwandb\u001b[0m:               epoch ▁▁▁▅▅▅▅█\n",
            "\u001b[34m\u001b[1mwandb\u001b[0m:     train_acc_epoch ▁▁\n",
            "\u001b[34m\u001b[1mwandb\u001b[0m:      train_acc_step ▁▁▁▁▁\n",
            "\u001b[34m\u001b[1mwandb\u001b[0m:    train_loss_epoch █▁\n",
            "\u001b[34m\u001b[1mwandb\u001b[0m:     train_loss_step █▂▁▁▁\n",
            "\u001b[34m\u001b[1mwandb\u001b[0m: trainer/global_step ▁▃▃▅▆███\n",
            "\u001b[34m\u001b[1mwandb\u001b[0m:             val_acc ▁\n",
            "\u001b[34m\u001b[1mwandb\u001b[0m:            val_loss ▁\n",
            "\u001b[34m\u001b[1mwandb\u001b[0m: \n",
            "\u001b[34m\u001b[1mwandb\u001b[0m: Run summary:\n",
            "\u001b[34m\u001b[1mwandb\u001b[0m:               epoch 2\n",
            "\u001b[34m\u001b[1mwandb\u001b[0m:     train_acc_epoch 0\n",
            "\u001b[34m\u001b[1mwandb\u001b[0m:      train_acc_step 0\n",
            "\u001b[34m\u001b[1mwandb\u001b[0m:    train_loss_epoch 0.0537\n",
            "\u001b[34m\u001b[1mwandb\u001b[0m:     train_loss_step 0.04292\n",
            "\u001b[34m\u001b[1mwandb\u001b[0m: trainer/global_step 99\n",
            "\u001b[34m\u001b[1mwandb\u001b[0m:             val_acc 0\n",
            "\u001b[34m\u001b[1mwandb\u001b[0m:            val_loss 0.04324\n",
            "\u001b[34m\u001b[1mwandb\u001b[0m: \n",
            "\u001b[34m\u001b[1mwandb\u001b[0m: 🚀 View run \u001b[33mct_segmentation_training\u001b[0m at: \u001b[34m\u001b[4mhttps://wandb.ai/lukasstan-warsaw-university-of-technology/ct_model/runs/uicgx4ap\u001b[0m\n",
            "\u001b[34m\u001b[1mwandb\u001b[0m: ⭐️ View project at: \u001b[34m\u001b[4mhttps://wandb.ai/lukasstan-warsaw-university-of-technology/ct_model\u001b[0m\n",
            "\u001b[34m\u001b[1mwandb\u001b[0m: Synced 5 W&B file(s), 0 media file(s), 0 artifact file(s) and 0 other file(s)\n",
            "\u001b[34m\u001b[1mwandb\u001b[0m: Find logs at: \u001b[35m\u001b[1m./wandb/run-20250117_224837-uicgx4ap/logs\u001b[0m\n",
            "/usr/local/lib/python3.11/dist-packages/wandb/sdk/wandb_run.py:2334: UserWarning: Run (uicgx4ap) is finished. The call to `_console_raw_callback` will be ignored. Please make sure that you are using an active run.\n",
            "  lambda data: self._console_raw_callback(\"stdout\", data),\n",
            "Epoch 2:   0% 0/48 [00:12<?, ?it/s, v_num=ap_0, train_loss_step=0.0618, train_acc_step=0.000, train_loss_epoch=0.0537, train_acc_epoch=0.000, val_loss=0.0432, val_acc=0.000]\n"
          ]
        }
      ]
    },
    {
      "cell_type": "code",
      "source": [
        "%load_ext tensorboard\n",
        "%tensorboard --logdir /content/Low_cost_U_Net_in_CT_images_spine_segmentation/outputs/ct_segmentation_training --host=127.0.0.1 --port=6007 --load_fast=false"
      ],
      "metadata": {
        "colab": {
          "base_uri": "https://localhost:8080/",
          "height": 356
        },
        "id": "jCIMtdlCcnAz",
        "outputId": "4fcc69fb-bc05-4aa6-ea64-a3ae6df8ed1d"
      },
      "execution_count": 31,
      "outputs": [
        {
          "output_type": "stream",
          "name": "stdout",
          "text": [
            "The tensorboard extension is already loaded. To reload it, use:\n",
            "  %reload_ext tensorboard\n"
          ]
        },
        {
          "output_type": "display_data",
          "data": {
            "text/plain": [
              "ERROR: Failed to launch TensorBoard (exited with 255).\n",
              "Contents of stderr:\n",
              "2025-01-17 23:05:59.963102: E external/local_xla/xla/stream_executor/cuda/cuda_fft.cc:485] Unable to register cuFFT factory: Attempting to register factory for plugin cuFFT when one has already been registered\n",
              "2025-01-17 23:05:59.985768: E external/local_xla/xla/stream_executor/cuda/cuda_dnn.cc:8454] Unable to register cuDNN factory: Attempting to register factory for plugin cuDNN when one has already been registered\n",
              "2025-01-17 23:05:59.992618: E external/local_xla/xla/stream_executor/cuda/cuda_blas.cc:1452] Unable to register cuBLAS factory: Attempting to register factory for plugin cuBLAS when one has already been registered\n",
              "2025-01-17 23:06:00.009216: I tensorflow/core/platform/cpu_feature_guard.cc:210] This TensorFlow binary is optimized to use available CPU instructions in performance-critical operations.\n",
              "To enable the following instructions: AVX2 AVX512F FMA, in other operations, rebuild TensorFlow with the appropriate compiler flags.\n",
              "2025-01-17 23:06:01.260302: W tensorflow/compiler/tf2tensorrt/utils/py_utils.cc:38] TF-TRT Warning: Could not find TensorRT\n",
              "WARNING: All log messages before absl::InitializeLog() is called are written to STDERR\n",
              "I0000 00:00:1737155163.437105    8806 cuda_executor.cc:1015] successful NUMA node read from SysFS had negative value (-1), but there must be at least one NUMA node, so returning NUMA node zero. See more at https://github.com/torvalds/linux/blob/v6.0/Documentation/ABI/testing/sysfs-bus-pci#L344-L355\n",
              "I0000 00:00:1737155163.504087    8806 cuda_executor.cc:1015] successful NUMA node read from SysFS had negative value (-1), but there must be at least one NUMA node, so returning NUMA node zero. See more at https://github.com/torvalds/linux/blob/v6.0/Documentation/ABI/testing/sysfs-bus-pci#L344-L355\n",
              "I0000 00:00:1737155163.504435    8806 cuda_executor.cc:1015] successful NUMA node read from SysFS had negative value (-1), but there must be at least one NUMA node, so returning NUMA node zero. See more at https://github.com/torvalds/linux/blob/v6.0/Documentation/ABI/testing/sysfs-bus-pci#L344-L355\n",
              "E0117 23:06:04.019832 134690717340288 program.py:300] TensorBoard could not bind to port 6007, it was already in use\n",
              "ERROR: TensorBoard could not bind to port 6007, it was already in use"
            ]
          },
          "metadata": {}
        }
      ]
    }
  ]
}